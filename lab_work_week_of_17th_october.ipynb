{
  "nbformat": 4,
  "nbformat_minor": 0,
  "metadata": {
    "colab": {
      "provenance": [],
      "include_colab_link": true
    },
    "kernelspec": {
      "name": "python3",
      "display_name": "Python 3"
    },
    "language_info": {
      "name": "python"
    }
  },
  "cells": [
    {
      "cell_type": "markdown",
      "metadata": {
        "id": "view-in-github",
        "colab_type": "text"
      },
      "source": [
        "<a href=\"https://colab.research.google.com/github/vickykimani/compiler_construction_labs/blob/main/lab_work_week_of_17th_october.ipynb\" target=\"_parent\"><img src=\"https://colab.research.google.com/assets/colab-badge.svg\" alt=\"Open In Colab\"/></a>"
      ]
    },
    {
      "cell_type": "markdown",
      "source": [
        "# **Group Members**"
      ],
      "metadata": {
        "id": "IBeTAISZEI6c"
      }
    },
    {
      "cell_type": "markdown",
      "source": [
        "1. 121289 - Atonya Whitney A. Madafali\n",
        "2. 121472 - Kimani, Vicky Nightingale\n",
        "3. 114439 - Laura Ayushi Ochieng'\n",
        "4. 121720 - Mutungi Vincent Mugambi"
      ],
      "metadata": {
        "id": "91Gfqf0DEVUN"
      }
    },
    {
      "cell_type": "markdown",
      "source": [
        "# **Question One**"
      ],
      "metadata": {
        "id": "iGK8jPoLEess"
      }
    },
    {
      "cell_type": "markdown",
      "source": [
        "*Review what syntax analysis is and in a few words, describe what this phase of compiler construction entails.*"
      ],
      "metadata": {
        "id": "z_16hB0rEljw"
      }
    },
    {
      "cell_type": "markdown",
      "source": [
        "The second stage of a compiler is syntax analysis. It receives input from the lexical analyzer and outputs data that the semantic analyzer can use as input.\n",
        "Parsing is another name for syntactic analysis. The parser (syntax analyzer), which takes the source code from the lexical analyzer in the form of tokens, then performs syntax analysis to provide an intermediate representation that looks like a tree and illustrates the grammatical structure of the token stream."
      ],
      "metadata": {
        "id": "jQtF62vpEttI"
      }
    },
    {
      "cell_type": "markdown",
      "source": [
        "# **Question Two**"
      ],
      "metadata": {
        "id": "FIUaJSjkFysx"
      }
    },
    {
      "cell_type": "markdown",
      "source": [
        "*Using Flex (lexical analyzer) and Bison (yacc), show how one can develop a simple syntax analyzer. [Consult the web, show and explain the simple codes that you find].*"
      ],
      "metadata": {
        "id": "LhNnz_twF2Xb"
      }
    },
    {
      "cell_type": "markdown",
      "source": [
        "**README**\n",
        "\n",
        "PLEASE CHECK YOUR VERSION OF BISON.\n",
        "The program includes a %require “version” after the declarations. The file has written 2.3 \n",
        "after which the %error-verbose is defined. This serves to provide more information about the\n",
        "syntax error. If a more recent version of bison, such as 3.1 is available, you may change the version and block the %error-verbose declaration and unblock %define parse.error verbose to achieve the same result.\n",
        "\n",
        "This is a simple program that gets tokes from lex and uses bison to parse through a file.\n",
        "\n",
        "To compile:\n",
        "    \n",
        "    lex file.l\n",
        "\t\tbison -d bison.y\n",
        "\t\tgcc bison.tab.c lex.yy.c -o test -ll\n",
        "\n",
        "To run include the file before execution:\t\n",
        "    \n",
        "    ./test testfile.c"
      ],
      "metadata": {
        "id": "_30ot4dlneRO"
      }
    },
    {
      "cell_type": "markdown",
      "source": [
        "# Bison.y file"
      ],
      "metadata": {
        "id": "kufBPc-KmH5Q"
      }
    },
    {
      "cell_type": "code",
      "source": [
        "/****************************************************************/\n",
        "/* Program created by Gabriel Garces Chavez, Maria Fernanda Delgado\t*/\n",
        "/* To run first compile lex with:\t\t\t\t*/\n",
        "/*        bison -d filename.y\t\t\t\t\t*/\n",
        "/* !! NOTE: this program requires a lex file !!\t\t\t*/\n",
        "/* Then compile C program with the lex generated file as:\t*/\n",
        "/*      gcc lex.yy.c filename.tab.y -o name -ll  (mac)\t\t*/\n",
        "/* \tgcc flex.yy.c filename.tab.y -o name -lfl (linux)\t*/\n",
        "/* The program requires another file as input\t\t\t*/\n",
        "/* so when running the program one must include \t\t*/\n",
        "/* it like so:\t\t\t\t\t\t\t*/\n",
        "/*     ./name readthisFile.txt\t\t\t\t\t*/\n",
        "/****************************************************************/\n",
        "\n",
        "%{\n",
        "#include <string.h>\n",
        "#include <stdio.h>\n",
        "#include <stdlib.h>\n",
        "\n",
        "void yyerror (const char *string); /* Declaration of error function not defined in bison */\n",
        "extern int yylex();\t\t\t/*function that reads from lex \t\t\t*/\n",
        "extern int yyparse();\t\t\t/* parses the tokens received from lex \t\t*/\n",
        "extern FILE *yyin;\t\t\t/* pointer to file used by lex\t\t\t*/\n",
        "extern int yylineno;\t\t\t/* line number for errors defined in lex, used here\t*/\n",
        "int flag =0;\t\t\t\t/* simple flag that checks if an error was found\t*/\n",
        "\n",
        "%}\n",
        "%require \"2.3\"\n",
        "%error-verbose\t\t\t\t/* BISON 2.3- Provides more detail about errors found */\n",
        "//%define parse.error verbose\t\t/* BISON 3.1- Provides more detail about errors found */\n",
        "\n",
        "%union{\t\t\t\t\t/* Structure that stores the values found by lex\t*/\n",
        "\tint ival;\n",
        "\tfloat fval;\n",
        "\tchar *sval;\n",
        "}\n",
        "/* Declaration of terminal tokens along with their type\t*/\n",
        "%token <ival> INT_NUM\n",
        "%token <fval> FLOAT_NUM\n",
        "%token <sval> IF\n",
        "%token <sval> INTEGER\n",
        "%token <sval> FLOAT\n",
        "%token <sval> THEN\n",
        "%token <sval> WHILE\n",
        "%token <sval> ELSE\n",
        "%token <sval> READ\n",
        "%token <sval> WRITE\n",
        "%token <sval> DO\n",
        "%token <sval> ID\n",
        "%token <sval> LBRACE\n",
        "%token <sval> RBRACE\n",
        "%token <sval> LPAREN\n",
        "%token <sval> RPAREN\n",
        "%token <sval> SEMI\n",
        "%token <sval> ASSIGN\n",
        "%token <sval> TIMES\n",
        "%token <sval> DIV\n",
        "%token <sval> PLUS\n",
        "%token <sval> MINUS\n",
        "%token <sval> LT\n",
        "%token <sval> EQ\n",
        "\n",
        "\n",
        "%%\n",
        "/* Grammar declarations */\n",
        "program: var_dec stmt_seq;\n",
        "\n",
        "var_dec: var_dec single_dec \n",
        "\t| //%empty\t\t/* Defined by bison to make explicit it can be empty/ epsilon */\n",
        "\t;\n",
        "\t\n",
        "single_dec: type ID SEMI ;\n",
        "\n",
        "type:\t INTEGER \n",
        "\t| FLOAT \n",
        "\t;\n",
        "\n",
        "stmt_seq: stmt_seq stmt \n",
        "\t| //%empty\n",
        "\t;\n",
        "stmt: IF exp THEN stmt \n",
        "\t| IF exp THEN stmt ELSE stmt\n",
        "\t| WHILE exp DO stmt \n",
        "\t| variable ASSIGN exp SEMI\n",
        "\t| READ LPAREN variable RPAREN SEMI\n",
        "\t| WRITE LPAREN exp RPAREN SEMI\n",
        "\t| block\n",
        "\t;\n",
        "\n",
        "block: LBRACE stmt_seq RBRACE \n",
        "\t;\n",
        "\n",
        "exp:\t simple_exp LT simple_exp \n",
        "\t| simple_exp EQ simple_exp \n",
        "\t| simple_exp\n",
        "\t;\n",
        "\n",
        "simple_exp: simple_exp MINUS term \n",
        "\t| simple_exp PLUS term \n",
        "\t| term\n",
        "\t;\n",
        "\n",
        "term: \tterm TIMES factor \n",
        "\t| term DIV factor \n",
        "\t| factor\n",
        "\t;\n",
        "\n",
        "factor: LPAREN exp RPAREN \n",
        "\t| INT_NUM \n",
        "\t| FLOAT_NUM \n",
        "\t| variable\n",
        "\t;\n",
        "\n",
        "variable: ID \n",
        "\t;\n",
        "\n",
        "\n",
        "%%\n",
        "//int yylex();\n",
        "\n",
        "/* Function name: yyerror\t\t*/\n",
        "/* Parameters: String defining error\t*/\n",
        "/* This function receives any error in \t*/\n",
        "/* the file found by the parser\t\t*/\n",
        "/* It prints the error and approx. line\t*/\n",
        "/* number where error might be found\t*/\n",
        "void yyerror (const char *string){\n",
        "  printf (\"Error near line %d: %s\\n\",yylineno,string);\n",
        "  flag =1;\t\t\t/* Indicate an error was found */\n",
        "}\n",
        "\n",
        "int main ( int argc, const char *argv[] ){\n",
        "\tif(argc < 2) /* Check that a file was inputed */\n",
        "\t{\n",
        "\t\tprintf(\"No file input! Please enter a file with program execution\\nTerminating execution\\n\");\n",
        "\t\treturn(1);\n",
        "\t}\n",
        "  \telse\n",
        "\t{\n",
        "\t\tyyin = fopen(argv[1], \"r\"); /*\topen file and send it to lex\t*/\n",
        "\t\tif(!yyin)\n",
        "\t\t{\n",
        "\t\t  \tprintf(\"Error opening file! Check name or path\\nTerminating execution\\n\");\n",
        "\t\t\texit(1);\n",
        "\t\t}\n",
        "\t\telse\n",
        "\t\t{\n",
        "\t\t\t\n",
        "\t \t\tyyparse();\t/* Function of bison that parses the tokens of lex \t*/\n",
        "\t\t\t/*If an error was not found print alt gud, if an error is found the program terminates itself so a definition of an error termination is unnecesary */\n",
        "\t\t\tif(flag==0)\t\n",
        "\t\t\t\tprintf(\"finished without errors!\\n\");\n",
        "\t\t}\n",
        "\t}\n",
        " \treturn 0;\n",
        "}"
      ],
      "metadata": {
        "id": "U6uDEW3BmBbP"
      },
      "execution_count": null,
      "outputs": []
    },
    {
      "cell_type": "markdown",
      "source": [
        "# .l file"
      ],
      "metadata": {
        "id": "mNQjBNb6mjQb"
      }
    },
    {
      "cell_type": "code",
      "source": [
        "/************************************************/\n",
        "/* Program created by Gabriel Garces Chavez \t*/\n",
        "/* To run first compile lex with:\t\t*/\n",
        "/*        flex lexicalAnalisis.l\t\t*/\n",
        "/* Then compile C program with\t\t\t*/\n",
        "/*      gcc lex.yy.c -o name -ll  (mac)\t\t*/\n",
        "/* \tgcc flex.yy.c -o name -lfl (linux)\t*/\n",
        "/* The program requires another file as input\t*/\n",
        "/* so when running the program one must include */\n",
        "/* it like so:\t\t\t\t\t*/\n",
        "/*     ./name readthisFile.txt\t\t\t*/\n",
        "/************************************************/\n",
        "\n",
        "\n",
        "/* This is the declaration section */\n",
        "%{\n",
        "\t#include \"bison.tab.h\" /* added declarations of tokens defined in the file created by bison */\n",
        "%}\n",
        "%option yylineno\n",
        " /* This is the rule definition */\n",
        "/*Since tokens are sent to bison/yacc this file simply returns the values found by lex, making copies of strings */\n",
        "/* in the future, considerations to free them should be noted */\n",
        "%%\n",
        "\n",
        "\"int\"\t\t\t\t\t{yylval.sval = strdup(yytext); return INTEGER;}\n",
        "\"float\"\t\t\t\t\t{yylval.sval = strdup(yytext); return FLOAT;}\n",
        "\"if\"\t\t\t\t\t{yylval.sval = strdup(yytext); return IF;}\n",
        "\"then\"\t\t\t\t\t{yylval.sval = strdup(yytext); return THEN;}\n",
        "\"while\"\t\t\t\t\t{yylval.sval = strdup(yytext); return WHILE;}\n",
        "\"else\"\t\t\t\t\t{yylval.sval = strdup(yytext); return ELSE;}\n",
        "\"read\"\t\t\t\t\t{yylval.sval = strdup(yytext); return READ;}\n",
        "\"write\"\t\t\t\t\t{yylval.sval = strdup(yytext); return WRITE;}\n",
        "\"do\"\t\t\t\t\t{yylval.sval = strdup(yytext); return DO;}\n",
        "\"{\"\t\t\t\t\t{yylval.sval = strdup(yytext); return LBRACE;}\n",
        "\"}\"\t\t\t\t\t{yylval.sval = strdup(yytext); return RBRACE;}\n",
        "\"(\"\t\t\t\t\t{yylval.sval = strdup(yytext); return LPAREN;}\n",
        "\")\"\t\t\t\t\t{yylval.sval = strdup(yytext); return RPAREN;}\n",
        "\";\"\t\t\t\t\t{yylval.sval = strdup(yytext); return SEMI;}\n",
        "\":=\"\t\t\t\t\t{yylval.sval = strdup(yytext); return ASSIGN;}\n",
        "\"*\"\t\t\t\t\t{yylval.sval = strdup(yytext); return TIMES;}\n",
        "\"/\"\t\t\t\t\t{yylval.sval = strdup(yytext); return DIV;}\n",
        "\"+\"\t\t\t\t\t{yylval.sval = strdup(yytext); return PLUS;}\n",
        "\"-\"\t\t\t\t\t{yylval.sval = strdup(yytext); return MINUS;}\n",
        "\"<\" \t\t\t\t\t{yylval.sval = strdup(yytext); return LT;}\n",
        "\"=\"\t\t\t\t\t{yylval.sval = strdup(yytext); return EQ;}\n",
        "[0-9][0-9]*|0(c|C)[0-7]+|0(x|X)[0-9A-Fa-f]+|[0-9]+([eE][-+]?[0-9]+)?     {yylval.ival = atoi(yytext); return INT_NUM;}\n",
        "[0-9]*\\.?[0-9]+([eE][-+]?[0-9]+)?  {yylval.fval = atof(yytext); return FLOAT_NUM;}\n",
        "[A-Za-z_][A-Za-z0-9]* \t\t\t{yylval.sval = strdup(yytext); return ID;}\n",
        "(\\/\\/.*|\"/*\"([^*]|\\*+[^*/])*\\*+\"/\")\t;\n",
        "[ \\t\\n\\f\\v\\r ]  ;\n",
        ".\t\t;\n",
        "%%\n"
      ],
      "metadata": {
        "id": "hTPiewvpmxtI"
      },
      "execution_count": null,
      "outputs": []
    },
    {
      "cell_type": "markdown",
      "source": [
        "# test.c file"
      ],
      "metadata": {
        "id": "mEr_oCfOnATi"
      }
    },
    {
      "cell_type": "code",
      "source": [
        "/* Definitions go first */\n",
        "\n",
        "int j;\n",
        "float i;\n",
        "int h;\n",
        "int j1;\n",
        "int i1;\n",
        "int h1;\n",
        "float j2;\n",
        "int i2;\n",
        "int h2;\n",
        "int j3;\n",
        "int i3;\n",
        "int h3;\n",
        "int j4;\n",
        "int i4;\n",
        "int h4;\n",
        "float j5;\n",
        "int i5;\n",
        "int h5;\n",
        "int j6;\n",
        "int i6;\n",
        "int h6;\n",
        "int j7;\n",
        "int i7;\n",
        "int h7;\n",
        "\n",
        "/* There is no \"main\" program, just blocks */\n",
        "{\n",
        "\n",
        " i := 0;\n",
        "\n",
        "  while (i < 10) do {\n",
        "  j := i * 10;\n",
        "  i := i + 1;\n",
        "\n",
        "\n",
        " h := j / i;\n",
        " h2 := h / h3;\n",
        " h := 100.1 * h;\n",
        "\n",
        "  }\n",
        "}"
      ],
      "metadata": {
        "id": "Q-Oew3icnJyj"
      },
      "execution_count": null,
      "outputs": []
    }
  ]
}